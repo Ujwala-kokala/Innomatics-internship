{
 "cells": [
  {
   "cell_type": "markdown",
   "metadata": {},
   "source": [
    "## 1Q. You are given three integers x,y and z representing the dimensions of a cuboid along with an integer n. \n",
    "Print a list of all possible coordinates given by (i,j,k) on a 3D grid where the sum of i+j+k  is not equal to n. \n",
    "Here, 0<=i<=x; 0<=j<=y; 0<=k<=z. \n",
    "Please use list comprehensions rather than multiple loops, as a learning exercise."
   ]
  },
  {
   "cell_type": "code",
   "execution_count": 1,
   "metadata": {},
   "outputs": [
    {
     "name": "stdout",
     "output_type": "stream",
     "text": [
      "0\n",
      "1\n",
      "2\n",
      "5\n",
      "[[0, 0, 0], [0, 0, 1], [0, 0, 2], [0, 1, 0], [0, 1, 1], [0, 1, 2]]\n"
     ]
    }
   ],
   "source": [
    " if __name__ == '__main__':\n",
    "    x = int(input())\n",
    "    y = int(input())\n",
    "    z = int(input())\n",
    "    n = int(input())\n",
    "    \n",
    "    a= [[i,j,k] for i in range(x+1) for j in range(y+1) for k in range(z+1) if i+j+k!=n]\n",
    "    print(a)"
   ]
  },
  {
   "cell_type": "markdown",
   "metadata": {},
   "source": [
    "## 2Q.Given the participants' score sheet for your University Sports Day, \n",
    "you are required to find the runner-up score. You are given n scores. \n",
    "Store them in a list and find the score of the runner-up."
   ]
  },
  {
   "cell_type": "code",
   "execution_count": 4,
   "metadata": {},
   "outputs": [
    {
     "name": "stdout",
     "output_type": "stream",
     "text": [
      "6\n",
      "0 9 8 7 6 5\n",
      "8\n"
     ]
    }
   ],
   "source": [
    "if __name__ == '__main__':\n",
    "    n = int(input())\n",
    "    arr = map(int, input().split())\n",
    "    arr= list(set(list(arr)))\n",
    "    a= len(arr)\n",
    "    arr = sorted(arr)\n",
    "    print(arr[a-2])"
   ]
  },
  {
   "cell_type": "markdown",
   "metadata": {},
   "source": [
    "## 3Q.Given the names and grades for each student in a class of n students, \n",
    "store them in a nested list and print the name(s) of any student(s) having the second lowest grade"
   ]
  },
  {
   "cell_type": "code",
   "execution_count": 14,
   "metadata": {},
   "outputs": [
    {
     "name": "stdout",
     "output_type": "stream",
     "text": [
      "5\n",
      "anu\n",
      "40\n",
      "abhi\n",
      "38.5\n",
      "gia\n",
      "50\n",
      "harsh\n",
      "38.5\n",
      "arjun\n",
      "30\n",
      "abhi\n",
      "harsh\n"
     ]
    }
   ],
   "source": [
    "if __name__ == '__main__':\n",
    "    score_list = [];\n",
    "    for _ in range(int(input())):\n",
    "        name = input()\n",
    "        score = float(input())\n",
    "        score_list.append([name, score])\n",
    "    second_lowest = sorted(set([score for name, score in score_list]))[1]\n",
    "    print('\\n'.join(sorted([name for name, score in score_list if score == second_lowest])))"
   ]
  },
  {
   "cell_type": "markdown",
   "metadata": {},
   "source": [
    "## 4Q. The provided code stub will read in a dictionary containing key/value pairs of name:[marks] for a list of students. \n",
    "Print the average of the marks array for the student name provided, showing 2 places after the decimal."
   ]
  },
  {
   "cell_type": "code",
   "execution_count": 15,
   "metadata": {},
   "outputs": [
    {
     "name": "stdout",
     "output_type": "stream",
     "text": [
      "3\n",
      "anu 35 38 40\n",
      "abhi 42 45 43\n",
      "asha 48 42 50\n",
      "asha\n",
      "46.67\n"
     ]
    }
   ],
   "source": [
    "from decimal import Decimal\n",
    "if __name__ == '__main__':\n",
    "    n = int(input())\n",
    "    student_marks = {}\n",
    "    for _ in range(n):\n",
    "        name, *line = input().split()\n",
    "        scores = list(map(float, line))\n",
    "        student_marks[name] = scores\n",
    "    query_name = input()\n",
    "    \n",
    "query_scores = student_marks[query_name]\n",
    "total = sum(query_scores)\n",
    "avg = Decimal(total/3)\n",
    "print(round(avg,2))"
   ]
  },
  {
   "cell_type": "markdown",
   "metadata": {},
   "source": [
    "## 5Q.Consider a list (list = []). You can perform the following commands:\n",
    "\n",
    "1. insert i e: Insert integer e at position i.\n",
    "2.print: Print the list.\n",
    "3.remove e: Delete the first occurrence of integer e.\n",
    "4.append e: Insert integer  at the end of the list.\n",
    "5.sort: Sort the list.\n",
    "6.pop: Pop the last element from the list.\n",
    "7.reverse: Reverse the list."
   ]
  },
  {
   "cell_type": "code",
   "execution_count": 16,
   "metadata": {},
   "outputs": [
    {
     "name": "stdout",
     "output_type": "stream",
     "text": [
      "12\n",
      "insert 0 5\n",
      "insert 1 10\n",
      "insert 0 6\n",
      "print\n",
      "[6, 5, 10]\n",
      "remove 6\n",
      "append 9\n",
      "append 1\n",
      "sort\n",
      "print\n",
      "[1, 5, 9, 10]\n",
      "pop\n",
      "reverse\n",
      "print\n",
      "[9, 5, 1]\n"
     ]
    }
   ],
   "source": [
    "list = []\n",
    "n=int(input())\n",
    "\n",
    "for i in range(n):\n",
    "    x = input().split() \n",
    "    if x[0] == 'insert':\n",
    "        list.insert(int(x[1]), int(x[2]))\n",
    "    elif x[0] == 'print':\n",
    "        print(list)\n",
    "    elif x[0] == 'remove':\n",
    "        list.remove(int(x[1]))\n",
    "    elif x[0] == 'append':\n",
    "        list.append(int(x[1]))\n",
    "    elif x[0] == 'sort':\n",
    "        list.sort()\n",
    "    elif x[0] == 'pop':\n",
    "        list.pop();\n",
    "    else:\n",
    "        list.reverse()\n",
    "        "
   ]
  },
  {
   "cell_type": "markdown",
   "metadata": {},
   "source": [
    "## 6Q. Given an integer,n , and n space-separated integers as input, \n",
    "create a tuple,t , of those n integers. Then compute and print the result of hash(t) ."
   ]
  },
  {
   "cell_type": "code",
   "execution_count": 17,
   "metadata": {},
   "outputs": [
    {
     "name": "stdout",
     "output_type": "stream",
     "text": [
      "2\n",
      "1 2\n",
      "1299869600\n"
     ]
    }
   ],
   "source": [
    "if __name__ == '__main__':\n",
    "    n = int(input())\n",
    "    integer_list = tuple(map(int, input().split()))\n",
    "    print(hash(integer_list))"
   ]
  },
  {
   "cell_type": "code",
   "execution_count": null,
   "metadata": {},
   "outputs": [],
   "source": []
  }
 ],
 "metadata": {
  "kernelspec": {
   "display_name": "Python 3",
   "language": "python",
   "name": "python3"
  },
  "language_info": {
   "codemirror_mode": {
    "name": "ipython",
    "version": 3
   },
   "file_extension": ".py",
   "mimetype": "text/x-python",
   "name": "python",
   "nbconvert_exporter": "python",
   "pygments_lexer": "ipython3",
   "version": "3.7.4"
  }
 },
 "nbformat": 4,
 "nbformat_minor": 2
}
