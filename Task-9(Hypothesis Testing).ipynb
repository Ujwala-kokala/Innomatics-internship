{
 "cells": [
  {
   "cell_type": "markdown",
   "metadata": {},
   "source": [
    "## Hypothesis Testing Problems"
   ]
  },
  {
   "cell_type": "code",
   "execution_count": 17,
   "metadata": {},
   "outputs": [],
   "source": [
    "import numpy as np\n",
    "import pandas as pd\n",
    "import matplotlib.pyplot as plt\n",
    "%matplotlib inline\n",
    "import seaborn as sns\n",
    "from scipy.stats import norm\n",
    "from math import sqrt"
   ]
  },
  {
   "cell_type": "code",
   "execution_count": 12,
   "metadata": {},
   "outputs": [],
   "source": [
    "def t_score(sample_size, sample_mean, pop_mean, sample_std):\n",
    "    numerator = sample_mean - pop_mean\n",
    "    denomenator = sample_std / sqrt(sample_size)\n",
    "    return numerator / denomenator"
   ]
  },
  {
   "cell_type": "markdown",
   "metadata": {},
   "source": [
    "## Understand Hypothesis Testing"
   ]
  },
  {
   "cell_type": "markdown",
   "metadata": {},
   "source": [
    "Step-1:\n",
    "\n",
    "Alternate Hypothesis (Bold claim): $ H_1 \\ \\Rightarrow \\ \\gt, \\ \\lt, \\ \\neq  $   \\\n",
    "Null Hypothesis (Status Quo): $ H_0 \\ \\Rightarrow \\ \\leq, \\ \\geq, \\ = $\n",
    "\n",
    "Step - 2:\n",
    "\n",
    " - Collect a sample of size n\n",
    " - Compute the mean from this sample $ \\bar{x} $\n",
    " \n",
    "Step - 3: Compute Test Statistic:\n",
    " \n",
    " - If population variance is known   $$ z = \\frac{\\bar{x} - \\mu}{\\sigma/\\sqrt[2]{n}}$$\n",
    "\n",
    " - If population variance is unknown  $$ t = \\frac{\\bar{x} - \\mu}{s/\\sqrt[2]{n}} $$\n",
    " \n",
    "Step - 4: \n",
    "\n",
    "Decide significance level $ \\alpha $. Lower $ \\alpha $ means you need stronger evidence to reject Null Hypothesis.\n",
    "\n",
    "Step - 5.1: Apply decision rule:\n",
    "\n",
    "If test statistic is z-score -\n",
    "\n",
    " - Two tailed z-test:$$ |z| > z_\\frac{\\alpha}{2} \\Rightarrow Accept \\ H_1 \\ or \\ Reject \\ H_0$$\n",
    " - Right tailed z-test:$$ z > z_\\alpha \\Rightarrow Accept \\ H_1 \\ or \\ Reject \\ H_0 $$\n",
    " - Left tailed z-test:$$ z < -z_\\alpha \\Rightarrow Accept \\ H_1 \\ or \\ Reject \\ H_0 $$\n",
    " - If test statistic is t-score\n",
    "\n",
    " - Two tailed t-test:$$ |t| > t_{n-1,\\frac{\\alpha}{2}} \\Rightarrow Accept \\ H_1 \\ or \\ Reject \\ H_0 $$\n",
    " - Right tailed t-test:$$ t > t_{n-1,\\alpha} \\Rightarrow Accept \\ H_1 \\ or \\ Reject \\ H_0 $$\n",
    " - Left tailed t-test:$$ t < t_{n-1,\\alpha} \\Rightarrow Accept \\ H_1 \\ or \\ Reject \\ H_0 $$\n",
    " \n",
    "Step - 5.2: Compute p-value $ P(Test \\ Statistics | H_0) $\n",
    "\n",
    " - For two tailed test:$$ p \\ value = 2 * (1.0 - cdf(test \\ statistic)) $$\n",
    " - For one tailed test:$$ p \\ value = (1.0 - cdf(test \\ statistic)) $$Now,$$ if (p \\ value < \\alpha) \\Rightarrow Accept \\ H_1 \\ or \\ Reject \\ H_0 $$"
   ]
  },
  {
   "cell_type": "markdown",
   "metadata": {},
   "source": [
    "### 1Q. Pista House selling Hyderabadi Chicken Dum biryani claims that each parcel packet has 500 grams of biryani (also mentioned on the label of packet). You are sceptic of their claims and believe that on average each packet does not contain 500 grams of biryani. How do you prove your claim? "
   ]
  },
  {
   "cell_type": "markdown",
   "metadata": {},
   "source": [
    "Step - 1:\n",
    "Alternate Hypothesis (Bold claim):$$ H_1: \\ ? $$ \\ Null Hypothesis (Status Quo):$$ H_0: \\ ? $$\n",
    "\n",
    "Step - 2:\n",
    "\n",
    "Collect a sample of size n = 10$$ [490, 220, 470, 500, 495, 496, 496, 498, 508, 480] $$\n",
    "Compute sample mean$$ \\bar{x} \\ = \\ ? $$\n",
    "Step - 3: Compute Test Statistic:$$ t = \\frac{\\bar{x} - \\mu}{s/\\sqrt[2]{n}} $$\n",
    "\n",
    "Step - 4: Decide $ \\alpha $ or significance level\n",
    "\n",
    "Step - 5.1: ? tailed t-test:$$ reject \\ H_0 \\ if \\ ? $$\n",
    "\n",
    "Step - 5.2: Compute p-value"
   ]
  },
  {
   "cell_type": "code",
   "execution_count": 8,
   "metadata": {},
   "outputs": [
    {
     "data": {
      "text/plain": [
       "465.3"
      ]
     },
     "execution_count": 8,
     "metadata": {},
     "output_type": "execute_result"
    }
   ],
   "source": [
    "l = [490, 220, 470, 500, 495, 496, 496, 498, 508, 480]\n",
    "\n",
    "sum(l)/len(l)"
   ]
  },
  {
   "cell_type": "code",
   "execution_count": 14,
   "metadata": {},
   "outputs": [
    {
     "name": "stdout",
     "output_type": "stream",
     "text": [
      "2.2621571627409915\n"
     ]
    }
   ],
   "source": [
    "# implementing the two tailed test method for calculating the t_critical \n",
    "from scipy.stats import t\n",
    "alpha = 1 - 0.95\n",
    "\n",
    "t_critical = t.ppf(1-alpha/2, df = 9)\n",
    "\n",
    "print(t_critical)"
   ]
  },
  {
   "cell_type": "code",
   "execution_count": 10,
   "metadata": {},
   "outputs": [],
   "source": [
    "# Defining the sample and population parameters\n",
    "\n",
    "sample_size = 10\n",
    "sample_mean = 465.3\n",
    "pop_mean = 500\n",
    "pop_std = 50"
   ]
  },
  {
   "cell_type": "code",
   "execution_count": 15,
   "metadata": {},
   "outputs": [
    {
     "data": {
      "text/plain": [
       "82.3918078451978"
      ]
     },
     "execution_count": 15,
     "metadata": {},
     "output_type": "execute_result"
    }
   ],
   "source": [
    "sample_std = np.std(l)\n",
    "sample_std"
   ]
  },
  {
   "cell_type": "code",
   "execution_count": 18,
   "metadata": {},
   "outputs": [
    {
     "name": "stdout",
     "output_type": "stream",
     "text": [
      "-1.3318197242863192\n"
     ]
    }
   ],
   "source": [
    "# Calculate t-score\n",
    "\n",
    "t = t_score(sample_size, sample_mean, pop_mean, sample_std)\n",
    "print(t)"
   ]
  },
  {
   "cell_type": "code",
   "execution_count": 19,
   "metadata": {},
   "outputs": [
    {
     "data": {
      "text/plain": [
       "Text(465.3, 0.0007, 'x_bar')"
      ]
     },
     "execution_count": 19,
     "metadata": {},
     "output_type": "execute_result"
    },
    {
     "data": {
      "image/png": "[encoded data removed]",
      "text/plain": [
       "<Figure size 432x288 with 1 Axes>"
      ]
     },
     "metadata": {
      "needs_background": "light"
     },
     "output_type": "display_data"
    }
   ],
   "source": [
    "# Ploting the sampling distribution with rejection regions\n",
    "\n",
    "# Defining the x minimum and x maximum\n",
    "x_min = 400\n",
    "x_max = 600\n",
    "\n",
    "\n",
    "# Defining the sampling distribution mean and sampling distribution std\n",
    "mean = pop_mean\n",
    "std = sample_std / sqrt(sample_size)\n",
    "\n",
    "\n",
    "# Ploting the graph and setting the x limits\n",
    "x = np.linspace(x_min, x_max, 100)\n",
    "y = norm.pdf(x, mean, std)\n",
    "plt.xlim(x_min, x_max)\n",
    "plt.plot(x, y)\n",
    "\n",
    "\n",
    "# Computing the left and right critical values (Two tailed Test)\n",
    "t_critical_left = pop_mean + (-t_critical * std)\n",
    "t_critical_right = pop_mean + (t_critical * std)\n",
    "\n",
    "\n",
    "# Shading the left rejection region\n",
    "x1 = np.linspace(x_min, t_critical_left, 100)\n",
    "y1 = norm.pdf(x1, mean, std)\n",
    "plt.fill_between(x1, y1, color='orange')\n",
    "\n",
    "\n",
    "# Shading the right rejection region\n",
    "x2 = np.linspace(t_critical_right, x_max, 100)\n",
    "y2 = norm.pdf(x2, mean, std)\n",
    "plt.fill_between(x2, y2, color='orange')\n",
    "\n",
    "\n",
    "# Ploting the sample mean and concluding the results \n",
    "plt.scatter(sample_mean, 0)\n",
    "plt.annotate(\"x_bar\", (sample_mean, 0.0007))\n",
    "\n"
   ]
  },
  {
   "cell_type": "code",
   "execution_count": 20,
   "metadata": {},
   "outputs": [
    {
     "name": "stdout",
     "output_type": "stream",
     "text": [
      "Fail to reject Null Hypothesis\n"
     ]
    }
   ],
   "source": [
    "if(np.abs(t) > t_critical):\n",
    "    print(\"Reject Null Hypothesis\")\n",
    "else:\n",
    "    print(\"Fail to reject Null Hypothesis\")"
   ]
  },
  {
   "cell_type": "code",
   "execution_count": 21,
   "metadata": {},
   "outputs": [
    {
     "name": "stdout",
     "output_type": "stream",
     "text": [
      "p_value =  0.18291943486353945\n",
      "Fail to reject Null Hypothesis\n"
     ]
    }
   ],
   "source": [
    "# Conclusion using p test\n",
    "\n",
    "p_value = 2 * (1.0 - norm.cdf(np.abs(t)))\n",
    "\n",
    "print(\"p_value = \", p_value)\n",
    "\n",
    "if(p_value < alpha):\n",
    "    print(\"Reject Null Hypothesis\")\n",
    "else:\n",
    "    print(\"Fail to reject Null Hypothesis\")"
   ]
  },
  {
   "cell_type": "markdown",
   "metadata": {},
   "source": [
    "### Q2: You have developed a new Natural Language Processing Algorithms and done a user study. You claim that the average rating given by the users is greater than 4 on a scale of 1 to 5. How do you prove this to your client?"
   ]
  },
  {
   "cell_type": "markdown",
   "metadata": {},
   "source": [
    "Step - 1:\n",
    "Alternate Hypothesis (Bold Claim):$$ H_1: \\ ? $$Null Hypothesis (Status Quo):$$ H_0: \\ ? $$\n",
    "\n",
    "Step - 2:\n",
    "\n",
    "Collect a sample of size n = 10$$ [4, 3, 5, 4, 5, 3, 5, 5, 4, 2, 4, 5, 5, 4, 4, 5, 4, 5, 4, 5] $$\n",
    "Compute sample mean$$ \\bar{x} \\ = \\ ? $$\n",
    "Step - 3: Compute Test Statistic: $$ t = \\frac{\\bar{x} - \\mu}{s/\\sqrt[2]{n}} $$\n",
    "\n",
    "Step - 4: Decide $ \\alpha $\n",
    "\n",
    "Step - 5.1: ? tailed t-test:$$ reject \\ H_0 \\ if ? $$\n",
    "\n",
    "Step - 5.2: Compute p-value"
   ]
  },
  {
   "cell_type": "code",
   "execution_count": 22,
   "metadata": {},
   "outputs": [
    {
     "data": {
      "text/plain": [
       "4.25"
      ]
     },
     "execution_count": 22,
     "metadata": {},
     "output_type": "execute_result"
    }
   ],
   "source": [
    "l = [4,3,5,4,5,3,5,5,4,2,4,5,5,4,4,5,4,5,4,5]\n",
    "sum(l)/len(l)"
   ]
  },
  {
   "cell_type": "code",
   "execution_count": 23,
   "metadata": {},
   "outputs": [
    {
     "name": "stdout",
     "output_type": "stream",
     "text": [
      "1.729132811521367\n"
     ]
    }
   ],
   "source": [
    "## Implementing the one tail method for calculating the t_critical \n",
    "\n",
    "from scipy.stats import t\n",
    "\n",
    "alpha = 1 - 0.95\n",
    "\n",
    "t_critical = t.ppf(1-alpha, df = 19)\n",
    "\n",
    "print(t_critical)"
   ]
  },
  {
   "cell_type": "code",
   "execution_count": 24,
   "metadata": {},
   "outputs": [
    {
     "data": {
      "text/plain": [
       "0.82915619758885"
      ]
     },
     "execution_count": 24,
     "metadata": {},
     "output_type": "execute_result"
    }
   ],
   "source": [
    "sample_std = np.std(l)\n",
    "sample_std"
   ]
  },
  {
   "cell_type": "code",
   "execution_count": 25,
   "metadata": {},
   "outputs": [],
   "source": [
    "sample_size = 20\n",
    "sample_mean = 4.25\n",
    "pop_mean = 4\n",
    "sample_std = 0.82"
   ]
  },
  {
   "cell_type": "code",
   "execution_count": 26,
   "metadata": {},
   "outputs": [
    {
     "name": "stdout",
     "output_type": "stream",
     "text": [
      "1.3634560838413352\n"
     ]
    }
   ],
   "source": [
    "t = t_score(sample_size, sample_mean, pop_mean, sample_std)\n",
    "\n",
    "print(t)"
   ]
  },
  {
   "cell_type": "code",
   "execution_count": 27,
   "metadata": {},
   "outputs": [
    {
     "data": {
      "text/plain": [
       "Text(4.25, 0.1, 'x_bar')"
      ]
     },
     "execution_count": 27,
     "metadata": {},
     "output_type": "execute_result"
    },
    {
     "data": {
      "image/png": "[encoded data removed]",
      "text/plain": [
       "<Figure size 432x288 with 1 Axes>"
      ]
     },
     "metadata": {
      "needs_background": "light"
     },
     "output_type": "display_data"
    }
   ],
   "source": [
    "# Ploting the sampling distribution with rejection regions\n",
    "\n",
    "# Defining the x minimum and x maximum\n",
    "x_min = 3.5\n",
    "x_max = 4.5\n",
    "\n",
    "\n",
    "# Defining the sampling distribution mean and sampling distribution std\n",
    "mean = pop_mean\n",
    "std = sample_std / sqrt(sample_size)\n",
    "\n",
    "\n",
    "# Ploting the graph and setting the x limits\n",
    "x = np.linspace(x_min, x_max, 100)\n",
    "y = norm.pdf(x, mean, std)\n",
    "plt.xlim(x_min, x_max)\n",
    "plt.plot(x, y)\n",
    "\n",
    "\n",
    "# Computing the right critical value (Right tailed Test)\n",
    "t_critical_right = pop_mean + (t_critical * std)\n",
    "\n",
    "\n",
    "# Shading the right rejection region\n",
    "x1 = np.linspace(t_critical_right, x_max, 100)\n",
    "y1 = norm.pdf(x1, mean, std)\n",
    "plt.fill_between(x1, y1, color='orange')\n",
    "\n",
    "\n",
    "# Ploting the sample mean and concluding the results \n",
    "\n",
    "plt.scatter(sample_mean, 0)\n",
    "plt.annotate(\"x_bar\", (sample_mean, 0.1))"
   ]
  },
  {
   "cell_type": "code",
   "execution_count": 28,
   "metadata": {},
   "outputs": [
    {
     "name": "stdout",
     "output_type": "stream",
     "text": [
      "Fail to reject Null Hypothesis\n"
     ]
    }
   ],
   "source": [
    "# Conclusion using z test\n",
    "\n",
    "if(t > t_critical):\n",
    "    print(\"Reject Null Hypothesis\")\n",
    "else:\n",
    "    print(\"Fail to reject Null Hypothesis\")"
   ]
  },
  {
   "cell_type": "code",
   "execution_count": 29,
   "metadata": {},
   "outputs": [
    {
     "name": "stdout",
     "output_type": "stream",
     "text": [
      "p_value =  0.08636940802398319\n",
      "Fail to reject Null Hypothesis\n"
     ]
    }
   ],
   "source": [
    "# Conclusion using p test\n",
    "\n",
    "p_value = 1.0 - norm.cdf(np.abs(t))\n",
    "\n",
    "print(\"p_value = \", p_value)\n",
    "\n",
    "if(p_value < alpha):\n",
    "    print(\"Reject Null Hypothesis\")\n",
    "else:\n",
    "    print(\"Fail to reject Null Hypothesis\")"
   ]
  },
  {
   "cell_type": "markdown",
   "metadata": {},
   "source": [
    "### 3Q: TATA has developed a better fuel management system for the SUV segment. They claim that with this system, on average the SUV's mileage is at least 15 km/litre?"
   ]
  },
  {
   "cell_type": "markdown",
   "metadata": {},
   "source": [
    "Step - 1:\n",
    "Alternate Hypothesis (Bold Claim):$$ H_1: \\ ? $$Null Hypothesis (Status Quo):$$ H_0: \\ ? $$\n",
    "\n",
    "Step - 2:\n",
    "\n",
    "Collect a sample of size n = 10$$ [14.08, 14.13, 15.65, 13.78, 16.26, 14.97, 15.36, 15.81, 14.53, 16.79, 15.78, 16.98, 13.23, 15.43, 15.46, 13.88, 14.31, 14.41, 15.76, 15.38] $$\n",
    "Compute sample mean$$ \\bar{x} \\ = \\ ? $$\n",
    "Step - 3: Compute Test Statistic:$$ t = \\frac{\\bar{x} - \\mu}{s/\\sqrt[2]{n}} $$\n",
    "\n",
    "Step - 4: Decide $ \\alpha $\n",
    "\n",
    "Step - 5.1: ? tailed t-test:$$ reject \\ H_0 \\ if \\ ? $$\n",
    "\n",
    "Step - 5.2: Compute p-value"
   ]
  },
  {
   "cell_type": "code",
   "execution_count": 30,
   "metadata": {},
   "outputs": [
    {
     "data": {
      "text/plain": [
       "15.098999999999998"
      ]
     },
     "execution_count": 30,
     "metadata": {},
     "output_type": "execute_result"
    }
   ],
   "source": [
    "l = [14.08,14.13,15.65,13.78,16.26,14.97,15.36,15.81,14.53,16.79,15.78,16.98,13.23,15.43,15.46,13.88,14.31,14.41,15.76,15.38]\n",
    "sum(l)/len(l)"
   ]
  },
  {
   "cell_type": "code",
   "execution_count": 31,
   "metadata": {},
   "outputs": [
    {
     "data": {
      "text/plain": [
       "0.9994043225842081"
      ]
     },
     "execution_count": 31,
     "metadata": {},
     "output_type": "execute_result"
    }
   ],
   "source": [
    "sample_std = np.std(l)\n",
    "sample_std"
   ]
  },
  {
   "cell_type": "code",
   "execution_count": 32,
   "metadata": {},
   "outputs": [
    {
     "name": "stdout",
     "output_type": "stream",
     "text": [
      "1.729132811521367\n"
     ]
    }
   ],
   "source": [
    "## Implementing the one tail method for calculating the t_critical \n",
    "\n",
    "from scipy.stats import t\n",
    "\n",
    "alpha = 1 - 0.95\n",
    "\n",
    "t_critical = t.ppf(1-alpha, df = 19)\n",
    "\n",
    "print(t_critical)"
   ]
  },
  {
   "cell_type": "code",
   "execution_count": 33,
   "metadata": {},
   "outputs": [],
   "source": [
    "sample_size = 20\n",
    "sample_mean = 15.1\n",
    "pop_mean = 15\n",
    "sample_std = 0.99"
   ]
  },
  {
   "cell_type": "code",
   "execution_count": 34,
   "metadata": {},
   "outputs": [
    {
     "name": "stdout",
     "output_type": "stream",
     "text": [
      "0.4517309045454104\n"
     ]
    }
   ],
   "source": [
    "t = t_score(sample_size, sample_mean, pop_mean, sample_std)\n",
    "\n",
    "print(t)"
   ]
  },
  {
   "cell_type": "code",
   "execution_count": 35,
   "metadata": {},
   "outputs": [
    {
     "data": {
      "text/plain": [
       "Text(15.1, 0.1, 'x_bar')"
      ]
     },
     "execution_count": 35,
     "metadata": {},
     "output_type": "execute_result"
    },
    {
     "data": {
      "image/png": "[encoded data removed]",
      "text/plain": [
       "<Figure size 432x288 with 1 Axes>"
      ]
     },
     "metadata": {
      "needs_background": "light"
     },
     "output_type": "display_data"
    }
   ],
   "source": [
    "x_min = 13\n",
    "x_max = 17\n",
    "\n",
    "mean = pop_mean\n",
    "std = sample_std / sqrt(sample_size)\n",
    "\n",
    "x = np.linspace(x_min, x_max, 100)\n",
    "y = norm.pdf(x, mean, std)\n",
    "\n",
    "plt.xlim(x_min, x_max)\n",
    "#plt.ylim(0, 0.03)\n",
    "\n",
    "plt.plot(x, y)\n",
    "\n",
    "t_critical_right = pop_mean + (t_critical * std)\n",
    "\n",
    "x1 = np.linspace(t_critical_right, x_max, 100)\n",
    "y1 = norm.pdf(x1, mean, std)\n",
    "plt.fill_between(x1, y1, color='orange')\n",
    "\n",
    "plt.scatter(sample_mean, 0)\n",
    "plt.annotate(\"x_bar\", (sample_mean, 0.1))"
   ]
  },
  {
   "cell_type": "code",
   "execution_count": null,
   "metadata": {},
   "outputs": [],
   "source": [
    "if(t > t_critical):\n",
    "    print(\"Reject Null Hypothesis\")\n",
    "else:\n",
    "    print(\"Fail to reject Null Hypothesis\")"
   ]
  },
  {
   "cell_type": "code",
   "execution_count": null,
   "metadata": {},
   "outputs": [],
   "source": [
    "p_value = 1.0 - norm.cdf(np.abs(t))\n",
    "\n",
    "print(\"p_value = \", p_value)\n",
    "\n",
    "if(p_value < alpha):\n",
    "    print(\"Reject Null Hypothesis\")\n",
    "else:\n",
    "    print(\"Fail to reject Null Hypothesis\")"
   ]
  },
  {
   "cell_type": "markdown",
   "metadata": {},
   "source": [
    "### 4Q: You have developed a new Machine Learning Application and claim that on average it takes less than 100 ms to predict for any future datapoint. How do you convince your client about this claim?"
   ]
  },
  {
   "cell_type": "markdown",
   "metadata": {},
   "source": [
    "Step - 1:\n",
    "Alternate Hypothesis (Bold Claim):$$ H_1: \\ ? $$Null Hypothesis (Status Quo):$$ H_0: \\ ? $$\n",
    "\n",
    "Step - 2:\n",
    "\n",
    "Collect a sample of size n = 100\n",
    "Compute sample mean$$ \\bar{x} \\ = \\ 97.5 $$\n",
    "Step - 3: Compute Test Statistic:$$ t = \\frac{\\bar{x} - \\mu}{s/\\sqrt[2]{n}} $$\n",
    "\n",
    "Step - 4: Decide $ \\alpha $\n",
    "\n",
    "Step - 5.1: ? tailed t-test:$$ reject \\ H_0 \\ if \\ ? $$\n",
    "\n",
    "Step - 5.2: Compute p-value"
   ]
  },
  {
   "cell_type": "code",
   "execution_count": 36,
   "metadata": {},
   "outputs": [
    {
     "name": "stdout",
     "output_type": "stream",
     "text": [
      "2.539483190622288\n"
     ]
    }
   ],
   "source": [
    "## implementing the one tail test to calculate the t_critical value\n",
    "\n",
    "from scipy.stats import t\n",
    "\n",
    "alpha = 1 - 0.99\n",
    "\n",
    "t_critical = t.ppf(1 - alpha, df=19)\n",
    "\n",
    "print(t_critical)"
   ]
  },
  {
   "cell_type": "code",
   "execution_count": 37,
   "metadata": {},
   "outputs": [],
   "source": [
    "sample_size = 100\n",
    "sample_mean = 97.5\n",
    "pop_mean = 100\n",
    "sample_std = 8"
   ]
  },
  {
   "cell_type": "code",
   "execution_count": 38,
   "metadata": {},
   "outputs": [
    {
     "name": "stdout",
     "output_type": "stream",
     "text": [
      "-3.125\n"
     ]
    }
   ],
   "source": [
    "t = t_score(sample_size, sample_mean, pop_mean, sample_std)\n",
    "\n",
    "print(t)"
   ]
  },
  {
   "cell_type": "code",
   "execution_count": 39,
   "metadata": {},
   "outputs": [
    {
     "data": {
      "text/plain": [
       "Text(97.5, 0.02, 'x_bar')"
      ]
     },
     "execution_count": 39,
     "metadata": {},
     "output_type": "execute_result"
    },
    {
     "data": {
      "image/png": "[encoded data removed]",
      "text/plain": [
       "<Figure size 432x288 with 1 Axes>"
      ]
     },
     "metadata": {
      "needs_background": "light"
     },
     "output_type": "display_data"
    }
   ],
   "source": [
    "x_min = 95\n",
    "x_max = 105\n",
    "\n",
    "mean = pop_mean\n",
    "std = sample_std / sqrt(sample_size)\n",
    "\n",
    "x = np.linspace(x_min, x_max, 100)\n",
    "y = norm.pdf(x, mean, std)\n",
    "\n",
    "plt.xlim(x_min, x_max)\n",
    "# plt.ylim(0, 0.03)\n",
    "\n",
    "plt.plot(x, y)\n",
    "\n",
    "t_critical_left = pop_mean + (-t_critical * std)\n",
    "\n",
    "x1 = np.linspace(x_min, t_critical_left, 100)\n",
    "y1 = norm.pdf(x1, mean, std)\n",
    "plt.fill_between(x1, y1, color='orange')\n",
    "\n",
    "plt.scatter(sample_mean, 0)\n",
    "plt.annotate(\"x_bar\", (sample_mean, 0.02))"
   ]
  },
  {
   "cell_type": "code",
   "execution_count": 40,
   "metadata": {},
   "outputs": [
    {
     "name": "stdout",
     "output_type": "stream",
     "text": [
      "Reject Null Hypothesis\n"
     ]
    }
   ],
   "source": [
    "if(t < -t_critical):\n",
    "    print(\"Reject Null Hypothesis\")\n",
    "else:\n",
    "    print(\"Fail to reject Null Hypothesis\")"
   ]
  },
  {
   "cell_type": "code",
   "execution_count": 41,
   "metadata": {},
   "outputs": [
    {
     "name": "stdout",
     "output_type": "stream",
     "text": [
      "p_value =  0.0008890252991083925\n",
      "Reject Null Hypothesis\n"
     ]
    }
   ],
   "source": [
    "p_value = 1.0 - norm.cdf(np.abs(t))\n",
    "\n",
    "print(\"p_value = \", p_value)\n",
    "\n",
    "if(p_value < 0.01):\n",
    "    print(\"Reject Null Hypothesis\")\n",
    "else:\n",
    "    print(\"Fail to reject Null Hypothesis\")"
   ]
  },
  {
   "cell_type": "code",
   "execution_count": null,
   "metadata": {},
   "outputs": [],
   "source": []
  }
 ],
 "metadata": {
  "kernelspec": {
   "display_name": "Python 3",
   "language": "python",
   "name": "python3"
  },
  "language_info": {
   "codemirror_mode": {
    "name": "ipython",
    "version": 3
   },
   "file_extension": ".py",
   "mimetype": "text/x-python",
   "name": "python",
   "nbconvert_exporter": "python",
   "pygments_lexer": "ipython3",
   "version": "3.7.4"
  }
 },
 "nbformat": 4,
 "nbformat_minor": 2
}
