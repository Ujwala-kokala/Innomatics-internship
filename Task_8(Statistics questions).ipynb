{
 "cells": [
  {
   "cell_type": "markdown",
   "metadata": {},
   "source": [
    "## 1Q. Binomial Distribution 1\n",
    "The ratio of boys to girls for babies born in Russia is 1.09:1. If there is 1 child born per birth, what proportion of Russian families with exactly 6 children will have at least 3 boys?"
   ]
  },
  {
   "cell_type": "code",
   "execution_count": 1,
   "metadata": {},
   "outputs": [
    {
     "name": "stdout",
     "output_type": "stream",
     "text": [
      "1.09 1\n",
      "0.696\n"
     ]
    }
   ],
   "source": [
    "from math import factorial\n",
    "\n",
    "def b(n,x,p):\n",
    "    return factorial(n)//factorial(n-x)//factorial(x) * (p ** x) * (1-p) ** (n-x)\n",
    "\n",
    "boys, girls = map(float,input().split())\n",
    "p = boys/(boys + girls)\n",
    "r = b(6,3,p) + b(6,4,p) +b(6,5,p) +b(6,6,p)\n",
    "print(\"%.3f\" % r)"
   ]
  },
  {
   "cell_type": "markdown",
   "metadata": {},
   "source": [
    "## 2Q. Binomial Distribution 2\n",
    "A manufacturer of metal pistons finds that, on average, 12%  of the pistons they manufacture are rejected because they are incorrectly sized. What is the probability that a batch of 10 pistons will contain:\n",
    "\n",
    "1. No more than 2 rejects?\n",
    "2. At least 2 rejects?"
   ]
  },
  {
   "cell_type": "code",
   "execution_count": 2,
   "metadata": {},
   "outputs": [
    {
     "name": "stdout",
     "output_type": "stream",
     "text": [
      "12 10\n",
      "0.891\n",
      "0.342\n"
     ]
    }
   ],
   "source": [
    "from math import factorial\n",
    "\n",
    "def b(n,x,p):\n",
    "    return factorial(n)//factorial(n-x)//factorial(x)*(p**x)*(1-p)**(n-x)\n",
    "\n",
    "p,n = map(int,input().split())\n",
    "\n",
    "p = p/100\n",
    "\n",
    "r = b(n,0,p) + b(n,1,p) + b(n,2,p)\n",
    "print(\"%.3f\" % r)\n",
    "r = sum(b(n,i,p) for i in range(2,n+1))\n",
    "print(\"%.3f\"% r)"
   ]
  },
  {
   "cell_type": "markdown",
   "metadata": {},
   "source": [
    "## 3Q. Normal Distribution 1\n",
    "In a certain plant, the time taken to assemble a car is a random variable,X , having a normal distribution with a mean of 20  hours and a standard deviation of 2 hours. What is the probability that a car can be assembled at this plant in:\n",
    "\n",
    "1. Less than 19.5 hours?\n",
    "2. Between 20 and 22 hours?"
   ]
  },
  {
   "cell_type": "code",
   "execution_count": 3,
   "metadata": {},
   "outputs": [
    {
     "name": "stdout",
     "output_type": "stream",
     "text": [
      "0.401\n",
      "0.341\n"
     ]
    }
   ],
   "source": [
    "import math \n",
    "\n",
    "mean,std = 20,2\n",
    "\n",
    "cdf = lambda x: 0.5 * (1 + math.erf((x - mean)/(std*(2**0.5))))\n",
    "\n",
    "# less than 19.5\n",
    "\n",
    "print('{:.3f}'.format(cdf(19.5)))\n",
    "\n",
    "# between 20 and 22\n",
    "\n",
    "print('{:.3f}'.format((cdf(22)-cdf(20))))"
   ]
  },
  {
   "cell_type": "markdown",
   "metadata": {},
   "source": [
    "## 4Q. Normal Distribution 2\n",
    "The final grades for a Physics exam taken by a large group of students have a mean of 70 and a standard deviation of 10. If we can approximate the distribution of these grades by a normal distribution, what percentage of the students:\n",
    "\n",
    "1. Scored higher than  80(i.e., have a grade>80)?\n",
    "2. Passed the test (i.e., have a grade>=60 )?\n",
    "3. Failed the test (i.e., have a grade<60 )?\n",
    "Find and print the answer to each question on a new line, rounded to a scale of 2 decimal places."
   ]
  },
  {
   "cell_type": "code",
   "execution_count": 5,
   "metadata": {},
   "outputs": [
    {
     "name": "stdout",
     "output_type": "stream",
     "text": [
      "15.87\n",
      "84.13\n",
      "15.87\n"
     ]
    }
   ],
   "source": [
    "import math\n",
    "mean, std = 70, 10\n",
    "cdf = lambda x: 0.5 * (1 + math.erf((x - mean) / (std * (2 ** 0.5))))\n",
    "\n",
    "\n",
    "print(round((1-cdf(80))*100,2))\n",
    "print(round((1-cdf(60))*100,2))\n",
    "print(round((cdf(60))*100,2))"
   ]
  },
  {
   "cell_type": "markdown",
   "metadata": {},
   "source": [
    "## 5Q. Central limit theorem 1\n",
    "A large elevator can transport a maximum of 9800 pounds. Suppose a load of cargo containing 49 boxes must be transported via the elevator. The box weight of this type of cargo follows a distribution with a mean of 205 pounds and a standard deviation of 15 pounds. Based on this information, what is the probability that all 49 boxes can be safely loaded into the freight elevator and transported?"
   ]
  },
  {
   "cell_type": "code",
   "execution_count": 6,
   "metadata": {},
   "outputs": [
    {
     "name": "stdout",
     "output_type": "stream",
     "text": [
      "9800\n",
      "49\n",
      "205\n",
      "15\n",
      "0.0098\n"
     ]
    }
   ],
   "source": [
    "import math\n",
    "\n",
    "x = int(input())\n",
    "n = int(input())\n",
    "mu = int(input())\n",
    "sigma = int(input())\n",
    "\n",
    "mu_sum = n * mu\n",
    "sigma_sum = math.sqrt(n)* sigma\n",
    "\n",
    "def cdf(x,mu,sigma):\n",
    "    z = (x-mu)/sigma\n",
    "    return 0.5*(1+math.erf(z/(math.sqrt(2))))\n",
    "print(round(cdf(x,mu_sum,sigma_sum),4))"
   ]
  },
  {
   "cell_type": "markdown",
   "metadata": {},
   "source": [
    "## 6Q. Central limit theorem 2\n",
    "The number of tickets purchased by each student for the University X vs. University Y football game follows a distribution that has a mean of 2.4 and a standard deviation of 2.0.\n",
    "\n",
    "A few hours before the game starts, 100 eager students line up to purchase last-minute tickets. If there are only 250 tickets left, what is the probability that all 100 students will be able to purchase tickets?"
   ]
  },
  {
   "cell_type": "code",
   "execution_count": 7,
   "metadata": {},
   "outputs": [
    {
     "name": "stdout",
     "output_type": "stream",
     "text": [
      "250\n",
      "100\n",
      "2.4\n",
      "2.0\n",
      "0.6915\n"
     ]
    }
   ],
   "source": [
    "import math\n",
    "\n",
    "x = int(input())\n",
    "n = int(input())\n",
    "mu = float(input())\n",
    "sigma = float(input())\n",
    "\n",
    "mu_sum = n * mu\n",
    "sigma_sum = math.sqrt(n)*sigma\n",
    "\n",
    "def cdf(x,mu,sigma):\n",
    "    z = (x-mu)/sigma\n",
    "    return 0.5*(1+math.erf(z/(math.sqrt(2))))\n",
    "print(round(cdf(x,mu_sum,sigma_sum),4))"
   ]
  },
  {
   "cell_type": "markdown",
   "metadata": {},
   "source": [
    "## 7Q. Central limit theorem 3\n",
    "You have a sample of 100 values from a population with mean 500 and with standard deviation 80. Compute the interval that covers the middle 95% of the distribution of the sample mean; in other words, compute A and B such that P(A<x<B) = 0.95. Use the value of z=1.96. Note that z is the z-score."
   ]
  },
  {
   "cell_type": "code",
   "execution_count": 8,
   "metadata": {},
   "outputs": [
    {
     "name": "stdout",
     "output_type": "stream",
     "text": [
      "100\n",
      "500\n",
      "80\n",
      "0.95\n",
      "1.96\n",
      "484.32\n",
      "515.68\n"
     ]
    }
   ],
   "source": [
    "from math import sqrt\n",
    "\n",
    "s = int(input())\n",
    "mean = int(input())\n",
    "std = int(input())\n",
    "interval = float(input())\n",
    "z = float(input())\n",
    "\n",
    "print(round(mean-(std/sqrt(s))*z,2))\n",
    "print(round(mean+(std/sqrt(s))*z,2))"
   ]
  },
  {
   "cell_type": "markdown",
   "metadata": {},
   "source": [
    "## 8Q. Pearson correlation coefficient 1\n",
    "Given two n-element data sets, X  and Y, calculate the value of the Pearson correlation coefficient."
   ]
  },
  {
   "cell_type": "code",
   "execution_count": 9,
   "metadata": {},
   "outputs": [
    {
     "name": "stdout",
     "output_type": "stream",
     "text": [
      "10\n",
      "10 9.8 8 7.8 7.7 7 6 5 4 2\n",
      "200 44 32 24 22 17 15 12 8 4\n",
      "0.612\n"
     ]
    }
   ],
   "source": [
    "N = int(input())\n",
    "X = list(map(float,input().strip().split()))\n",
    "Y = list(map(float,input().strip().split()))\n",
    "\n",
    "mu_x = sum(X)/ N\n",
    "mu_y = sum(Y)/ N\n",
    "\n",
    "stdv_x = (sum([(i - mu_x)**2 for i in X])/N)**0.5\n",
    "stdv_y = (sum([(i-mu_y)**2 for i in Y])/N)**0.5\n",
    "\n",
    "covariance = sum([(X[i]-mu_x)* (Y[i]-mu_y) for i in range(N)])\n",
    "\n",
    "correlation_coefficient = covariance/(N * stdv_x * stdv_y)\n",
    "print(round(correlation_coefficient,3))"
   ]
  },
  {
   "cell_type": "markdown",
   "metadata": {},
   "source": [
    "## 9Q. Least square regression line\n",
    "A group of five students enrolls in Statistics immediately after taking a Math aptitude test. Each student's Math aptitude test score,x , and Statistics course grade,y , can be expressed as the following list of (x,y) points:\n",
    "1. (95, 85)\n",
    "2. (85, 95)\n",
    "3. (80, 70)\n",
    "4. (70, 65)\n",
    "5. (60, 70)\n",
    "\n"
   ]
  },
  {
   "cell_type": "code",
   "execution_count": 10,
   "metadata": {},
   "outputs": [
    {
     "name": "stdout",
     "output_type": "stream",
     "text": [
      "95 85\n",
      "85 95\n",
      "80 70\n",
      "70 65\n",
      "60 70\n",
      "78.288\n"
     ]
    }
   ],
   "source": [
    "n = 5\n",
    "\n",
    "xy = [map(int,input().split()) for _ in range(n)]\n",
    "\n",
    "sx, sy, sx2, sxy = map(sum, zip(*[(x, y, x**2, x*y) for x, y in xy]))\n",
    "\n",
    "b = (n* sxy - sx * sy) / (n * sx2 - sx**2)\n",
    "a = (sy / n) - b * (sx / n)\n",
    "\n",
    "print('{:.3f}'.format(a + b * 80))"
   ]
  },
  {
   "cell_type": "markdown",
   "metadata": {},
   "source": [
    "## 10Q. Multiple linear regression\n"
   ]
  },
  {
   "cell_type": "code",
   "execution_count": 11,
   "metadata": {},
   "outputs": [
    {
     "name": "stdout",
     "output_type": "stream",
     "text": [
      "2 7\n",
      "0.18 0.89 109.85\n",
      "1.0 0.26 155.72\n",
      "0.92 0.11 137.66\n",
      "0.07 0.37 76.17\n",
      "0.85 0.16 139.75\n",
      "0.99 0.41 162.6\n",
      "0.87 0.47 151.77\n",
      "4\n",
      "0.49 0.18\n",
      "0.57 0.83\n",
      "0.56 0.64\n",
      "0.76 0.18\n",
      "105.21\n",
      "142.67\n",
      "132.94\n",
      "129.7\n"
     ]
    }
   ],
   "source": [
    "from sklearn import linear_model\n",
    "\n",
    "def solve(y,x,x_pred):\n",
    "    lm = linear_model.LinearRegression()\n",
    "    lm.fit(x,y)\n",
    "    y_pred=lm.predict(x_pred)\n",
    "    return y_pred\n",
    "\n",
    "def main():\n",
    "    m,n = map(int,input().strip().split())\n",
    "    y = []; x=[]; x_pred=[]\n",
    "    for _ in range(n):\n",
    "        *features,y_val = map(float,input().strip().split())\n",
    "        x.append(features)\n",
    "        y.append(y_val)\n",
    "    for _ in range(int(input())):\n",
    "        features = list(map(float,input().strip().split()))\n",
    "        x_pred.append(features)\n",
    "        \n",
    "    answer = solve(y, x, x_pred)\n",
    "    for num in answer:\n",
    "        print(round(num,2))\n",
    "        \n",
    "if __name__ == \"__main__\":\n",
    "    main()"
   ]
  },
  {
   "cell_type": "code",
   "execution_count": null,
   "metadata": {},
   "outputs": [],
   "source": []
  }
 ],
 "metadata": {
  "kernelspec": {
   "display_name": "Python 3",
   "language": "python",
   "name": "python3"
  },
  "language_info": {
   "codemirror_mode": {
    "name": "ipython",
    "version": 3
   },
   "file_extension": ".py",
   "mimetype": "text/x-python",
   "name": "python",
   "nbconvert_exporter": "python",
   "pygments_lexer": "ipython3",
   "version": "3.7.4"
  }
 },
 "nbformat": 4,
 "nbformat_minor": 2
}
